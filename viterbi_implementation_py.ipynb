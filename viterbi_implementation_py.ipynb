{
  "nbformat": 4,
  "nbformat_minor": 0,
  "metadata": {
    "colab": {
      "name": "viterbi_implementation.py",
      "provenance": [],
      "collapsed_sections": [],
      "include_colab_link": true
    },
    "kernelspec": {
      "name": "python3",
      "display_name": "Python 3"
    }
  },
  "cells": [
    {
      "cell_type": "markdown",
      "metadata": {
        "id": "view-in-github",
        "colab_type": "text"
      },
      "source": [
        "<a href=\"https://colab.research.google.com/github/ifrahsaleem/viterbi/blob/master/viterbi_implementation_py.ipynb\" target=\"_parent\"><img src=\"https://colab.research.google.com/assets/colab-badge.svg\" alt=\"Open In Colab\"/></a>"
      ]
    },
    {
      "cell_type": "code",
      "metadata": {
        "id": "acK_aiJQhYyq",
        "colab_type": "code",
        "outputId": "77794ae9-2b04-4d67-a152-dee556fb184c",
        "colab": {
          "base_uri": "https://localhost:8080/",
          "height": 193
        }
      },
      "source": [
        "import pandas as pd\n",
        "import numpy as np \n",
        "\n",
        "states = ('Exon', 'Splice', 'Intron' )\n",
        "seq=\"CTTCATGTGAAAGCAGACGTAAGTCA\"\n",
        "obs = tuple(seq)\n",
        "start_probability = {'Exon': 1.0, 'Splice': 0.0, 'Intron': 0.0}\n",
        "transition_probability = {\n",
        "   'Exon' : {'Exon': 0.9, 'Splice': 0.1, 'Intron': 0.0, 'end': 0.0},\n",
        "   'Splice' : {'Exon': 0.0, 'Splice': 0.0, 'Intron': 1.0, 'end': 0.0},\n",
        "   'Intron' : {'Exon': 0.0, 'Splice': 0.0, 'Intron': 0.9, 'end': 0.1}\n",
        "   }\n",
        "emission_probability = {'Exon' : {'A': 0.25, 'C': 0.25, 'G': 0.25, 'T': 0.25},\n",
        "                        'Splice' : {'A': 0.05, 'C': 0.0, 'G': 0.95, 'T': 0.0},\n",
        "                        'Intron' : {'A': 0.4, 'C': 0.1, 'G': 0.1, 'T': 0.4},}\n",
        "\n",
        "def print_path_probability_matrix(P,states):\n",
        "    for q in states: print(q+ \":\\t\" + \"\\t\".join((\"%.2e\" % (p)) for p in P[q]))\n",
        "      \n",
        "def viterbi(obs, states, phi , trans_p, emit_p): #phi is start prob\n",
        "  P = {}\n",
        "  backpointer = {}\n",
        "  T=len(obs) \n",
        "  \n",
        "  #initializationstep\n",
        "  start_probability = phi\n",
        "  for q in states:\n",
        "    P[q] = [phi[q] * emit_p[q][obs[0]]]\n",
        "    backpointer[q] = [\"Start\"]\n",
        "  \n",
        "  #recursion step \n",
        "  #run viterbi when T > 0 \n",
        "  for t in range(1,T):\n",
        "    for current_q in states:\n",
        "      (delta_i, state)=max(((P[q][t-1] * transition_probability[q][current_q] * emission_probability[current_q][obs[t]]), q) for q in states)\n",
        "      P[current_q].append(delta_i)\n",
        "      backpointer[current_q].append(state)\n",
        "  \n",
        "  #finalizationstep\n",
        "  P.update({'End' : [] })\n",
        "  backpointer.update({'End' : [] })\n",
        "  (delta_i, state)=max(((P[q][-1] * transition_probability[q]['end']), q) for q in states)\n",
        "  P['End'].append(delta_i)\n",
        "  backpointer['End'].append(state)\n",
        "  \n",
        " \n",
        "  #bestpath\n",
        "  Exon = backpointer['Exon']\n",
        "  Splice = backpointer['Splice']\n",
        "  Intron = backpointer['Intron']\n",
        "  path = []\n",
        "  #path.append('Start')\n",
        "  \n",
        "  count = 0\n",
        "  y = 'a' \n",
        "  if backpointer['End'][0] == 'Intron':\n",
        "      path.append('Intron')\n",
        "      for r in range(T-1,0,-1):\n",
        "        if Intron[r] == 'Intron':\n",
        "          path.append('Intron')    \n",
        "          count += 1\n",
        "        elif Intron[r] != 'Intron':\n",
        "          y = Intron[r]\n",
        "          path.append(Intron[r])\n",
        "          count += 1\n",
        "          break \n",
        "       \n",
        "  for r in range(T-1-count, 0, -1):\n",
        "    if y == 'Splice':\n",
        "      path.append('Exon')\n",
        "      \n",
        "  path.append('Start')\n",
        "  path.reverse()\n",
        "  path.append('End')\n",
        "  \n",
        "  print_path_probability_matrix(P,states)\n",
        "  print(\"\\n\")\n",
        "  \n",
        "  for delta_i in P['End']:  \n",
        "    print(\"probability of the best path to observe the sequence: %.2e \" % (delta_i)) \n",
        "    print(\"\\n\")\n",
        "    print(\"the best path:  %s\"  % \"\\t\" .join(path[::1]))\n",
        "\n",
        "viterbi(obs, states, start_probability, transition_probability, emission_probability)\n"
      ],
      "execution_count": 1,
      "outputs": [
        {
          "output_type": "stream",
          "text": [
            "Exon:\t2.50e-01\t5.63e-02\t1.27e-02\t2.85e-03\t6.41e-04\t1.44e-04\t3.24e-05\t7.30e-06\t1.64e-06\t3.69e-07\t8.31e-08\t1.87e-08\t4.21e-09\t9.47e-10\t2.13e-10\t4.79e-11\t1.08e-11\t2.43e-12\t5.46e-13\t1.23e-13\t2.76e-14\t6.22e-15\t1.40e-15\t3.15e-16\t7.08e-17\t1.59e-17\n",
            "Splice:\t0.00e+00\t0.00e+00\t0.00e+00\t0.00e+00\t1.42e-05\t0.00e+00\t1.37e-05\t0.00e+00\t6.93e-07\t8.21e-09\t1.85e-09\t4.16e-10\t1.78e-09\t0.00e+00\t4.73e-12\t2.02e-11\t2.40e-13\t0.00e+00\t2.31e-13\t0.00e+00\t6.14e-16\t1.38e-16\t5.91e-16\t0.00e+00\t0.00e+00\t3.54e-19\n",
            "Intron:\t0.00e+00\t0.00e+00\t0.00e+00\t0.00e+00\t0.00e+00\t5.70e-06\t5.13e-07\t5.48e-06\t4.93e-07\t2.77e-07\t9.98e-08\t3.59e-08\t3.23e-09\t2.91e-10\t1.05e-10\t9.43e-12\t8.10e-12\t7.29e-13\t6.56e-14\t9.22e-14\t3.32e-14\t1.20e-14\t1.08e-15\t3.87e-16\t3.49e-17\t1.25e-17\n",
            "\n",
            "\n",
            "probability of the best path to observe the sequence: 1.25e-18 \n",
            "\n",
            "\n",
            "the best path:  Start\tExon\tExon\tExon\tExon\tExon\tExon\tExon\tExon\tExon\tExon\tExon\tExon\tExon\tExon\tExon\tExon\tExon\tExon\tSplice\tIntron\tIntron\tIntron\tIntron\tIntron\tIntron\tIntron\tEnd\n"
          ],
          "name": "stdout"
        }
      ]
    },
    {
      "cell_type": "code",
      "metadata": {
        "id": "WA0U_TE9s-tN",
        "colab_type": "code",
        "colab": {}
      },
      "source": [
        ""
      ],
      "execution_count": 0,
      "outputs": []
    }
  ]
}